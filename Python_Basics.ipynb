{
 "cells": [
  {
   "cell_type": "markdown",
   "id": "coupled-drilling",
   "metadata": {},
   "source": [
    "# Table of contents\n",
    "\n",
    "### 1) Python Comments\n",
    "\n",
    "### 2) Python Data Types\n",
    "       1) Numeric Types\n",
    "       2) Text Type\n",
    "       3) Boolean Type\n",
    "       4) Sequence Types\n",
    "       5) Mapping Type\n",
    "       6) Set Types\n",
    "\n",
    "### 3) Python Variables\n",
    "\n",
    "### 4) Python Operators\n",
    "       1) Arithmetic operators\n",
    "       2) Assignment operators\n",
    "       3) Comparison operators\n",
    "       4) Identity operators\n",
    "       5) Membership operators\n",
    "       6) Logical operators\n",
    "       7) Bitwise operators\n",
    "       \n",
    "### 5) Python Conditional Statements \n",
    "       1) if statement\n",
    "       2) if..else statement\n",
    "       3) nested if statements\n",
    "       \n",
    "### 6) Python Loops\n",
    "       1) while loop\n",
    "       2) for loop "
   ]
  },
  {
   "cell_type": "markdown",
   "id": "cultural-benefit",
   "metadata": {},
   "source": [
    "Let's Start"
   ]
  },
  {
   "cell_type": "markdown",
   "id": "protecting-plenty",
   "metadata": {},
   "source": [
    "## 1) Python Comments\n",
    "\n",
    "• Comments can be used to explain Python code.\n",
    "\n",
    "• Comments can be used to make the code more readable.\n",
    "\n",
    "• Comments can be used to prevent execution when testing code.\n",
    "\n",
    "#### Syntax : '#' "
   ]
  },
  {
   "cell_type": "code",
   "execution_count": 1,
   "id": "oriented-warning",
   "metadata": {
    "scrolled": true
   },
   "outputs": [
    {
     "name": "stdout",
     "output_type": "stream",
     "text": [
      "Hello Viewers! I hope you will learn something from these code.\n"
     ]
    }
   ],
   "source": [
    "# Python will not execute these code        <-----------  This line is commented\n",
    "\n",
    "print('Hello Viewers! I hope you will learn something from these code.')      # Print is an in-bulit function to display"
   ]
  },
  {
   "cell_type": "code",
   "execution_count": 2,
   "id": "reflected-province",
   "metadata": {
    "scrolled": true
   },
   "outputs": [
    {
     "name": "stdout",
     "output_type": "stream",
     "text": [
      "Hello Viewers! I hope you will learn something from these code.\n"
     ]
    }
   ],
   "source": [
    "print('Hello Viewers! I hope you will learn something from these code.')      # We can also add comment at the end"
   ]
  },
  {
   "cell_type": "code",
   "execution_count": 3,
   "id": "active-beatles",
   "metadata": {
    "scrolled": true
   },
   "outputs": [],
   "source": [
    "# We can also comment the code\n",
    "\n",
    "#print('Hello Viewers! I hope you will learn something from these code.') "
   ]
  },
  {
   "cell_type": "markdown",
   "id": "optimum-mirror",
   "metadata": {},
   "source": [
    "## 2) Python Data Types\n",
    "\n",
    "Data types are the classification or categorization of data items. It represents the kind of value that tells what operations can be performed on a particular data."
   ]
  },
  {
   "cell_type": "markdown",
   "id": "interpreted-romantic",
   "metadata": {},
   "source": [
    "### Numeric Types\n",
    "\n",
    "There are three distinct numeric types: integers (int) , floating point numbers (float), and complex numbers (complex)."
   ]
  },
  {
   "cell_type": "code",
   "execution_count": 4,
   "id": "final-future",
   "metadata": {},
   "outputs": [
    {
     "name": "stdout",
     "output_type": "stream",
     "text": [
      "20\n"
     ]
    },
    {
     "data": {
      "text/plain": [
       "int"
      ]
     },
     "execution_count": 4,
     "metadata": {},
     "output_type": "execute_result"
    }
   ],
   "source": [
    "# Integer Data Type\n",
    "# Here we known 20 is a interger value\n",
    "\n",
    "print(20)    # print is an in-built finction in python to display\n",
    "\n",
    "# We can check the data type of 20 \n",
    "\n",
    "type(20)    # type function we return the data type of value"
   ]
  },
  {
   "cell_type": "markdown",
   "id": "dying-treasure",
   "metadata": {},
   "source": [
    "We can see the output of type '20' is a int (integer)"
   ]
  },
  {
   "cell_type": "code",
   "execution_count": 5,
   "id": "female-heart",
   "metadata": {},
   "outputs": [
    {
     "name": "stdout",
     "output_type": "stream",
     "text": [
      "20.5\n"
     ]
    },
    {
     "data": {
      "text/plain": [
       "float"
      ]
     },
     "execution_count": 5,
     "metadata": {},
     "output_type": "execute_result"
    }
   ],
   "source": [
    "# Float Data Type\n",
    "# Here we known 20.5 is a float value\n",
    "\n",
    "print(20.5)    # print is an in-built finction in python to display\n",
    "\n",
    "# We can check the data type of 20.5 \n",
    "\n",
    "type(20.5)    # type function we return the data type of value"
   ]
  },
  {
   "cell_type": "markdown",
   "id": "august-manor",
   "metadata": {},
   "source": [
    "We can see the output of type '20.5' is a float (floating point number)"
   ]
  },
  {
   "cell_type": "code",
   "execution_count": 6,
   "id": "frozen-softball",
   "metadata": {},
   "outputs": [
    {
     "name": "stdout",
     "output_type": "stream",
     "text": [
      "20j\n"
     ]
    },
    {
     "data": {
      "text/plain": [
       "complex"
      ]
     },
     "execution_count": 6,
     "metadata": {},
     "output_type": "execute_result"
    }
   ],
   "source": [
    "# Complex Data Type\n",
    "# Here we known 20j is a complex value\n",
    "\n",
    "print(20j)    # print is an in-built finction in python to display\n",
    "\n",
    "# We can check the data type of 20j \n",
    "\n",
    "type(20j)    # type function we return the data type of value"
   ]
  },
  {
   "cell_type": "markdown",
   "id": "exclusive-general",
   "metadata": {},
   "source": [
    "We can see the output of type '20j' is a complex"
   ]
  },
  {
   "cell_type": "markdown",
   "id": "instrumental-florida",
   "metadata": {},
   "source": [
    "### Text Type - str (string)\n",
    "\n",
    "A string in Python is a sequence of characters. Strings in python are surrounded by either single quotation marks, or double quotation marks.\n",
    "\n",
    "#### Syntax : Single quotation (' ') or Double quotation (\" \")"
   ]
  },
  {
   "cell_type": "code",
   "execution_count": 7,
   "id": "framed-surfing",
   "metadata": {},
   "outputs": [
    {
     "name": "stdout",
     "output_type": "stream",
     "text": [
      "variable\n"
     ]
    }
   ],
   "source": [
    "'variable'              # These is a string \n",
    "print('variable')       # print is an in-built finction in python to display"
   ]
  },
  {
   "cell_type": "code",
   "execution_count": 8,
   "id": "knowing-manchester",
   "metadata": {},
   "outputs": [
    {
     "name": "stdout",
     "output_type": "stream",
     "text": [
      "variable\n"
     ]
    }
   ],
   "source": [
    "\"variable\"             # These is also a string\n",
    "print('variable')      # print is an in-built finction in python to display"
   ]
  },
  {
   "cell_type": "markdown",
   "id": "acceptable-wealth",
   "metadata": {},
   "source": [
    "#### You would be wondering why string is defined in two different Quotations. Let me give an example."
   ]
  },
  {
   "cell_type": "code",
   "execution_count": 9,
   "id": "growing-archive",
   "metadata": {
    "scrolled": true
   },
   "outputs": [
    {
     "name": "stdout",
     "output_type": "stream",
     "text": [
      "Python is easy.\n"
     ]
    }
   ],
   "source": [
    "# Single quotation is used in simple sentence\n",
    "\n",
    "print('Python is easy.')"
   ]
  },
  {
   "cell_type": "code",
   "execution_count": 10,
   "id": "developed-sight",
   "metadata": {
    "scrolled": true
   },
   "outputs": [
    {
     "name": "stdout",
     "output_type": "stream",
     "text": [
      "Python is easy. There's lot to do with Python.\n"
     ]
    }
   ],
   "source": [
    "# We use Double quotation when we have to use single quotation in between sentence\n",
    "\n",
    "print(\"Python is easy. There's lot to do with Python.\")"
   ]
  },
  {
   "cell_type": "markdown",
   "id": "minus-gathering",
   "metadata": {},
   "source": [
    "### Boolean Type\n",
    "\n",
    "Booleans represent one of two values: True or False.\n",
    "\n",
    "• In programming you often need to know if an expression is True or False.\n",
    "\n",
    "• You can evaluate any expression in Python, and get one of two answers, True or False.\n",
    "\n",
    "• When you compare two values, the expression is evaluated and Python returns the Boolean answer:"
   ]
  },
  {
   "cell_type": "code",
   "execution_count": 11,
   "id": "plain-smith",
   "metadata": {},
   "outputs": [
    {
     "name": "stdout",
     "output_type": "stream",
     "text": [
      "True\n"
     ]
    },
    {
     "data": {
      "text/plain": [
       "bool"
      ]
     },
     "execution_count": 11,
     "metadata": {},
     "output_type": "execute_result"
    }
   ],
   "source": [
    "# True is boolean type\n",
    "\n",
    "print(True)   # we don't write True in quotations and first letter should be capital\n",
    "\n",
    "# We will ckeck type of True\n",
    "\n",
    "type(True)"
   ]
  },
  {
   "cell_type": "markdown",
   "id": "genetic-delivery",
   "metadata": {},
   "source": [
    "We can see the output of type True is bool (boolean)"
   ]
  },
  {
   "cell_type": "code",
   "execution_count": 12,
   "id": "involved-county",
   "metadata": {},
   "outputs": [
    {
     "name": "stdout",
     "output_type": "stream",
     "text": [
      "False\n"
     ]
    },
    {
     "data": {
      "text/plain": [
       "bool"
      ]
     },
     "execution_count": 12,
     "metadata": {},
     "output_type": "execute_result"
    }
   ],
   "source": [
    "# True is boolean type\n",
    "\n",
    "print(False)   # we don't write False in quotations and first letter should be capital\n",
    "\n",
    "# We will ckeck type of False\n",
    "\n",
    "type(False)"
   ]
  },
  {
   "cell_type": "markdown",
   "id": "exciting-newspaper",
   "metadata": {},
   "source": [
    "We can see the output of type True is bool (boolean)"
   ]
  },
  {
   "cell_type": "markdown",
   "id": "efficient-denver",
   "metadata": {},
   "source": [
    "## 3) Python Variables\n",
    "\n",
    "A Python variable is a reserved memory location to store values. In simple words, variables are containers for storing data values.\n",
    "\n",
    "#### There are some rules for declaring a variable name.\n",
    "\n",
    "• The first character of the variable can be an alphabet or (_) underscore.\n",
    "\n",
    "• Special characters (@, #, %, ^, &, *) should not be used in variable name.\n",
    "\n",
    "• Variable names are case sensitive. For example - age and AGE are two different variables.\n",
    "\n",
    "• Reserve words cannot be declared as variables."
   ]
  },
  {
   "cell_type": "code",
   "execution_count": 13,
   "id": "dirty-premium",
   "metadata": {
    "scrolled": true
   },
   "outputs": [
    {
     "name": "stdout",
     "output_type": "stream",
     "text": [
      "20\n"
     ]
    },
    {
     "data": {
      "text/plain": [
       "int"
      ]
     },
     "execution_count": 13,
     "metadata": {},
     "output_type": "execute_result"
    }
   ],
   "source": [
    "# We will assign 20 value to varaible 'a'\n",
    "\n",
    "a = 20       # a = 20 means we have stored '20' value in variable a\n",
    "print(a)     # print will display the value stored in variable 'a'\n",
    "\n",
    "# Now let's check data type of variable a \n",
    "\n",
    "type(a)"
   ]
  },
  {
   "cell_type": "markdown",
   "id": "sustainable-backing",
   "metadata": {},
   "source": [
    "The data type of variable 'a' is int i.e(integer)"
   ]
  },
  {
   "cell_type": "code",
   "execution_count": 14,
   "id": "infrared-rings",
   "metadata": {},
   "outputs": [
    {
     "name": "stdout",
     "output_type": "stream",
     "text": [
      "11.54\n"
     ]
    },
    {
     "data": {
      "text/plain": [
       "float"
      ]
     },
     "execution_count": 14,
     "metadata": {},
     "output_type": "execute_result"
    }
   ],
   "source": [
    "# We will assign python to varaible 'b'\n",
    "\n",
    "b = 11.54  # b = 'python' means we have stored 11.54 value in variable b\n",
    "print(b)      # print will display the value stored in variable 'b'\n",
    "\n",
    "# Now let's check data type of variable 'b'\n",
    "\n",
    "type(b)"
   ]
  },
  {
   "cell_type": "markdown",
   "id": "agreed-ridge",
   "metadata": {},
   "source": [
    "The data type of variable 'b' is float i.e(floating point number)"
   ]
  },
  {
   "cell_type": "code",
   "execution_count": 15,
   "id": "psychological-croatia",
   "metadata": {
    "scrolled": true
   },
   "outputs": [
    {
     "name": "stdout",
     "output_type": "stream",
     "text": [
      "python\n"
     ]
    },
    {
     "data": {
      "text/plain": [
       "str"
      ]
     },
     "execution_count": 15,
     "metadata": {},
     "output_type": "execute_result"
    }
   ],
   "source": [
    "# We will assign python to varaible 'c'\n",
    "\n",
    "c = 'python'  # c = 'python' means we have stored 'python' in variable c\n",
    "print(c)      # print will display the value stored in variable 'c'\n",
    "\n",
    "# Now let's check data type of variable 'c'\n",
    "\n",
    "type(c)"
   ]
  },
  {
   "cell_type": "markdown",
   "id": "selective-poker",
   "metadata": {},
   "source": [
    "The data type of variable 'c' is str i.e(string)"
   ]
  },
  {
   "cell_type": "code",
   "execution_count": 16,
   "id": "received-sacrifice",
   "metadata": {
    "scrolled": true
   },
   "outputs": [
    {
     "name": "stdout",
     "output_type": "stream",
     "text": [
      "True\n"
     ]
    },
    {
     "data": {
      "text/plain": [
       "bool"
      ]
     },
     "execution_count": 16,
     "metadata": {},
     "output_type": "execute_result"
    }
   ],
   "source": [
    "# We will assign python to varaible 'c'\n",
    "\n",
    "d = True      # d = True means we have stored True in variable 'd'\n",
    "print(d)      # print will display the value stored in variable 'd'\n",
    "\n",
    "# Now let's check data type of variable 'd' \n",
    "\n",
    "type(d)"
   ]
  },
  {
   "cell_type": "markdown",
   "id": "nervous-plenty",
   "metadata": {},
   "source": [
    "The data type of variable 'd' is bool i.e(boolean)"
   ]
  },
  {
   "cell_type": "markdown",
   "id": "electric-cornell",
   "metadata": {},
   "source": [
    "## 4) Python Operators"
   ]
  },
  {
   "cell_type": "raw",
   "id": "polar-equity",
   "metadata": {},
   "source": [
    "1) Arithmetic operators\n",
    "2) Assignment operators\n",
    "3) Comparison operators\n",
    "4) Logical operators\n",
    "5) Identity operators\n",
    "6) Membership operators\n",
    "7) Bitwise operators"
   ]
  },
  {
   "cell_type": "markdown",
   "id": "threatened-launch",
   "metadata": {},
   "source": [
    "### Arithmetic operators \n",
    "\n",
    "Arithmetic operators are used with numeric values to perform common mathematical operations:\n",
    "\n",
    "1. Addition\n",
    "2. Subtraction\n",
    "3. Multiplication\n",
    "4. Division\n",
    "5. Modulus\n",
    "6. Exponential\n",
    "7. Floor Division"
   ]
  },
  {
   "cell_type": "markdown",
   "id": "sublime-miniature",
   "metadata": {},
   "source": [
    "#### • Addition\n",
    "\n",
    "Addition opeartor will give the sum of two numers"
   ]
  },
  {
   "cell_type": "code",
   "execution_count": 17,
   "id": "original-cigarette",
   "metadata": {
    "scrolled": true
   },
   "outputs": [
    {
     "name": "stdout",
     "output_type": "stream",
     "text": [
      "6\n"
     ]
    }
   ],
   "source": [
    "print(2 + 4)    # Display addition of 2 + 4"
   ]
  },
  {
   "cell_type": "code",
   "execution_count": 18,
   "id": "hindu-framing",
   "metadata": {},
   "outputs": [
    {
     "name": "stdout",
     "output_type": "stream",
     "text": [
      "20\n"
     ]
    }
   ],
   "source": [
    "# We can also add value with variable\n",
    "\n",
    "a = 5                # Value stored in a  \n",
    "\n",
    "print(a + 15)        # Adding another value with the stored value"
   ]
  },
  {
   "cell_type": "code",
   "execution_count": 19,
   "id": "complicated-ordering",
   "metadata": {},
   "outputs": [
    {
     "name": "stdout",
     "output_type": "stream",
     "text": [
      "150\n"
     ]
    }
   ],
   "source": [
    "# We can also add two variables\n",
    "\n",
    "a = 50                # Value stored in a  \n",
    "\n",
    "b = 100               # Value stored in b\n",
    "\n",
    "print(a + b)        # Adding both variables\n",
    "\n",
    "# We can also store that value in another variable\n",
    "\n",
    "c = a + b "
   ]
  },
  {
   "cell_type": "markdown",
   "id": "resistant-observer",
   "metadata": {},
   "source": [
    "#### • Subtraction\n",
    "\n",
    "Subtraction operator will give difference of two numbers."
   ]
  },
  {
   "cell_type": "code",
   "execution_count": 20,
   "id": "positive-diamond",
   "metadata": {},
   "outputs": [
    {
     "name": "stdout",
     "output_type": "stream",
     "text": [
      "46\n"
     ]
    }
   ],
   "source": [
    "print(100-54)            # Display difference of 100 - 54"
   ]
  },
  {
   "cell_type": "code",
   "execution_count": 21,
   "id": "ongoing-friendly",
   "metadata": {},
   "outputs": [
    {
     "name": "stdout",
     "output_type": "stream",
     "text": [
      "9.959999999999994\n"
     ]
    }
   ],
   "source": [
    "d = 115                # Value stored in a  \n",
    "\n",
    "print(d - 105.04)        # Differencing another value with the stored value"
   ]
  },
  {
   "cell_type": "code",
   "execution_count": 22,
   "id": "detailed-honolulu",
   "metadata": {},
   "outputs": [
    {
     "name": "stdout",
     "output_type": "stream",
     "text": [
      "-50\n"
     ]
    }
   ],
   "source": [
    "# We can also add two variables\n",
    "\n",
    "a1 = 50                # Value stored in a  \n",
    "\n",
    "b1 = 100               # Value stored in b\n",
    "\n",
    "# We can also store that value in another variable\n",
    "\n",
    "d1 = a1 - b1 \n",
    "\n",
    "print(d1)"
   ]
  },
  {
   "cell_type": "markdown",
   "id": "synthetic-century",
   "metadata": {},
   "source": [
    "#### • Multiplication\n",
    "\n",
    "Multiplication operator will give multiply of two numbers."
   ]
  },
  {
   "cell_type": "code",
   "execution_count": 23,
   "id": "billion-watts",
   "metadata": {},
   "outputs": [
    {
     "name": "stdout",
     "output_type": "stream",
     "text": [
      "36\n"
     ]
    }
   ],
   "source": [
    "print(4*9)   # Syntax used for multiplication is '*'"
   ]
  },
  {
   "cell_type": "code",
   "execution_count": 24,
   "id": "smoking-webster",
   "metadata": {},
   "outputs": [
    {
     "name": "stdout",
     "output_type": "stream",
     "text": [
      "59.0\n"
     ]
    }
   ],
   "source": [
    "table = 5.9       # assign value to 'table' variable\n",
    "\n",
    "print(table * 10)"
   ]
  },
  {
   "cell_type": "code",
   "execution_count": 25,
   "id": "contrary-merchant",
   "metadata": {
    "scrolled": true
   },
   "outputs": [
    {
     "name": "stdout",
     "output_type": "stream",
     "text": [
      "21\n"
     ]
    }
   ],
   "source": [
    "x = 7           # assign value to 'x'\n",
    "\n",
    "y = 3           # assign value to 'y'\n",
    "\n",
    "z = x * y       # assign value to 'z'\n",
    "\n",
    "print(z)        # Display multiplcation of x & y"
   ]
  },
  {
   "cell_type": "markdown",
   "id": "occupational-security",
   "metadata": {},
   "source": [
    "#### • Division\n",
    "\n",
    "Divison operator will give division of two numbers."
   ]
  },
  {
   "cell_type": "code",
   "execution_count": 26,
   "id": "parental-summer",
   "metadata": {},
   "outputs": [
    {
     "name": "stdout",
     "output_type": "stream",
     "text": [
      "5.0\n"
     ]
    }
   ],
   "source": [
    "print(10/2)       # syntax is '/'\n",
    "\n",
    "# Here the answer of division is always float type"
   ]
  },
  {
   "cell_type": "code",
   "execution_count": 27,
   "id": "military-detection",
   "metadata": {},
   "outputs": [
    {
     "name": "stdout",
     "output_type": "stream",
     "text": [
      "48.42857142857143\n"
     ]
    }
   ],
   "source": [
    "p = 678          # assign value to 'p'\n",
    "\n",
    "q = 14           # assign value to 'q'\n",
    "\n",
    "r = p / q        # store value in 'r'\n",
    "\n",
    "print(r)         # display 'r'"
   ]
  },
  {
   "cell_type": "markdown",
   "id": "encouraging-avenue",
   "metadata": {},
   "source": [
    "#### • Modulus\n",
    "\n",
    "Modulus operator returns the remainder of dividing the left hand operand by right hand operand. It's used to get the remainder of a division problem."
   ]
  },
  {
   "cell_type": "code",
   "execution_count": 28,
   "id": "solid-sister",
   "metadata": {},
   "outputs": [
    {
     "name": "stdout",
     "output_type": "stream",
     "text": [
      "0\n"
     ]
    }
   ],
   "source": [
    "print(56 % 2)     # syntax is '%'"
   ]
  },
  {
   "cell_type": "code",
   "execution_count": 29,
   "id": "functional-morris",
   "metadata": {},
   "outputs": [
    {
     "name": "stdout",
     "output_type": "stream",
     "text": [
      "3\n"
     ]
    }
   ],
   "source": [
    "one = 75         # assign value to 'one'\n",
    "\n",
    "two = 4           # assign value to 'two'\n",
    "\n",
    "mod = one % two       # store value in 'mod'\n",
    "\n",
    "print(mod)         # display 'mod'"
   ]
  },
  {
   "cell_type": "code",
   "execution_count": 30,
   "id": "maritime-frontier",
   "metadata": {},
   "outputs": [
    {
     "name": "stdout",
     "output_type": "stream",
     "text": [
      "1\n"
     ]
    }
   ],
   "source": [
    "w = 19 % 2\n",
    "\n",
    "print(w)       # display 'w'"
   ]
  },
  {
   "cell_type": "markdown",
   "id": "joined-alpha",
   "metadata": {},
   "source": [
    "#### • Exponential\n",
    "\n",
    "The exponentiation operator returns the result of raising the first operand to the power of the second operand."
   ]
  },
  {
   "cell_type": "code",
   "execution_count": 31,
   "id": "minimal-plenty",
   "metadata": {},
   "outputs": [
    {
     "name": "stdout",
     "output_type": "stream",
     "text": [
      "8\n"
     ]
    }
   ],
   "source": [
    "print(2**3)     # syntax is '**'"
   ]
  },
  {
   "cell_type": "code",
   "execution_count": 32,
   "id": "identical-manchester",
   "metadata": {},
   "outputs": [
    {
     "name": "stdout",
     "output_type": "stream",
     "text": [
      "78125\n"
     ]
    }
   ],
   "source": [
    "op1 = 5                  # assign value to 'op1'\n",
    "\n",
    "op2 = 7                  # assign value to 'op2'\n",
    "\n",
    "op3 = op1 ** op2         # store value in 'op3'\n",
    "\n",
    "print(op3)               # display 'op3'"
   ]
  },
  {
   "cell_type": "markdown",
   "id": "helpful-stuart",
   "metadata": {},
   "source": [
    "#### • Floor Division\n",
    "\n",
    "Floor division returns the floor value  for both integer and floating point arguments. "
   ]
  },
  {
   "cell_type": "code",
   "execution_count": 33,
   "id": "relative-condition",
   "metadata": {},
   "outputs": [
    {
     "name": "stdout",
     "output_type": "stream",
     "text": [
      "2.0\n",
      "2\n"
     ]
    }
   ],
   "source": [
    "# First we will use normal division\n",
    "\n",
    "print(6 / 3)                # syntax for division is '/'\n",
    "\n",
    "# Now we will use floor division\n",
    "\n",
    "print(6 // 3)               # syntax for floor division is '//'"
   ]
  },
  {
   "cell_type": "markdown",
   "id": "eleven-montana",
   "metadata": {},
   "source": [
    "The output of floor division is floored."
   ]
  },
  {
   "cell_type": "markdown",
   "id": "expanded-industry",
   "metadata": {},
   "source": [
    "### Assignment operator\n",
    "\n",
    "This operator is used to assign the value of the right side to the left side operand."
   ]
  },
  {
   "cell_type": "code",
   "execution_count": 34,
   "id": "prescription-technician",
   "metadata": {},
   "outputs": [],
   "source": [
    "var = 71        # syntax is '='"
   ]
  },
  {
   "cell_type": "markdown",
   "id": "otherwise-jackson",
   "metadata": {},
   "source": [
    "### Comparison operators\n",
    "\n",
    "Comparison operators are used to compare two values.\n",
    "\n",
    "There are 6 types of comparision operators:\n",
    "1. equal-to operator\n",
    "2. not-equal-to operator\n",
    "1. greater than operator\n",
    "1. less than operator\n",
    "1. greater than or equal to operator\n",
    "1. less than or equal to operator"
   ]
  },
  {
   "cell_type": "markdown",
   "id": "unnecessary-multimedia",
   "metadata": {},
   "source": [
    "#### • equal-to operator\n",
    "\n",
    "Equal-to operator will compare if two values are same or not. If the values are same then it will return True else it will return False."
   ]
  },
  {
   "cell_type": "code",
   "execution_count": 35,
   "id": "meaningful-plate",
   "metadata": {
    "scrolled": true
   },
   "outputs": [
    {
     "name": "stdout",
     "output_type": "stream",
     "text": [
      "False\n"
     ]
    }
   ],
   "source": [
    "print(5 == 10)       # syntax is '=='"
   ]
  },
  {
   "cell_type": "markdown",
   "id": "spanish-papua",
   "metadata": {},
   "source": [
    "The output is False because we known that 5 is not 10"
   ]
  },
  {
   "cell_type": "code",
   "execution_count": 36,
   "id": "plain-phone",
   "metadata": {
    "scrolled": true
   },
   "outputs": [
    {
     "name": "stdout",
     "output_type": "stream",
     "text": [
      "True\n"
     ]
    }
   ],
   "source": [
    "print(10 == 10)"
   ]
  },
  {
   "cell_type": "markdown",
   "id": "alien-creation",
   "metadata": {},
   "source": [
    "The output is True because we known that 10 is 10"
   ]
  },
  {
   "cell_type": "code",
   "execution_count": 37,
   "id": "sapphire-angola",
   "metadata": {},
   "outputs": [
    {
     "name": "stdout",
     "output_type": "stream",
     "text": [
      "False\n"
     ]
    }
   ],
   "source": [
    "a = 35           # assign value to 'a'\n",
    "\n",
    "b = 45           # assign value to 'b'\n",
    "\n",
    "c = a == b       # store value of 'a == b'\n",
    "\n",
    "print(c)         # display "
   ]
  },
  {
   "cell_type": "code",
   "execution_count": 38,
   "id": "located-childhood",
   "metadata": {},
   "outputs": [
    {
     "name": "stdout",
     "output_type": "stream",
     "text": [
      "True\n"
     ]
    }
   ],
   "source": [
    "a = 35           # assign value to 'a'\n",
    "\n",
    "b = 35           # assign value to 'b'\n",
    "\n",
    "c = a == b       # store value of 'a == b'\n",
    "\n",
    "print(c)         # display "
   ]
  },
  {
   "cell_type": "markdown",
   "id": "deadly-ethernet",
   "metadata": {},
   "source": [
    "#### • not-equal-to opeartor\n",
    "\n",
    "Not-equal-to operator will compare if two values are same or not. If the values are not same then it will return True else it will return False."
   ]
  },
  {
   "cell_type": "code",
   "execution_count": 39,
   "id": "sudden-sullivan",
   "metadata": {
    "scrolled": true
   },
   "outputs": [
    {
     "name": "stdout",
     "output_type": "stream",
     "text": [
      "True\n"
     ]
    }
   ],
   "source": [
    "print(5 != 10)       # syntax is '!='"
   ]
  },
  {
   "cell_type": "markdown",
   "id": "diverse-hungarian",
   "metadata": {},
   "source": [
    "The output is True because we known that 5 is not 10"
   ]
  },
  {
   "cell_type": "code",
   "execution_count": 40,
   "id": "editorial-reach",
   "metadata": {
    "scrolled": true
   },
   "outputs": [
    {
     "name": "stdout",
     "output_type": "stream",
     "text": [
      "False\n"
     ]
    }
   ],
   "source": [
    "print(10 != 10)"
   ]
  },
  {
   "cell_type": "markdown",
   "id": "later-magic",
   "metadata": {},
   "source": [
    "The output is False because we known that 10 is 10"
   ]
  },
  {
   "cell_type": "code",
   "execution_count": 41,
   "id": "thick-deputy",
   "metadata": {},
   "outputs": [
    {
     "name": "stdout",
     "output_type": "stream",
     "text": [
      "True\n"
     ]
    }
   ],
   "source": [
    "a = 35           # assign value to 'a'\n",
    "\n",
    "b = 45           # assign value to 'b'\n",
    "\n",
    "c = a != b       # store value of 'a == b'\n",
    "\n",
    "print(c)         # display "
   ]
  },
  {
   "cell_type": "code",
   "execution_count": 42,
   "id": "boxed-karen",
   "metadata": {},
   "outputs": [
    {
     "name": "stdout",
     "output_type": "stream",
     "text": [
      "False\n"
     ]
    }
   ],
   "source": [
    "a = 35           # assign value to 'a'\n",
    "\n",
    "b = 35           # assign value to 'b'\n",
    "\n",
    "c = a != b       # store value of 'a == b'\n",
    "\n",
    "print(c)         # display "
   ]
  },
  {
   "cell_type": "markdown",
   "id": "greek-motor",
   "metadata": {},
   "source": [
    "#### • Greater than operator\n",
    "\n",
    "Greater than operator will return True if left side number is greater than right side else it will return False"
   ]
  },
  {
   "cell_type": "code",
   "execution_count": 43,
   "id": "funky-warren",
   "metadata": {},
   "outputs": [
    {
     "name": "stdout",
     "output_type": "stream",
     "text": [
      "True\n"
     ]
    }
   ],
   "source": [
    "print(6 > 4)       # syntax is '>'"
   ]
  },
  {
   "cell_type": "code",
   "execution_count": 44,
   "id": "moderate-robertson",
   "metadata": {},
   "outputs": [
    {
     "name": "stdout",
     "output_type": "stream",
     "text": [
      "False\n"
     ]
    }
   ],
   "source": [
    "print(2 > 4)       # syntax is '>'"
   ]
  },
  {
   "cell_type": "code",
   "execution_count": 45,
   "id": "equal-huntington",
   "metadata": {},
   "outputs": [
    {
     "name": "stdout",
     "output_type": "stream",
     "text": [
      "True\n"
     ]
    }
   ],
   "source": [
    "a = 86           # assign value to 'a'\n",
    "\n",
    "b = 45           # assign value to 'b'\n",
    "\n",
    "c = a > b       # store value of 'a > b'\n",
    "\n",
    "print(c)         # display "
   ]
  },
  {
   "cell_type": "code",
   "execution_count": 46,
   "id": "noticed-tension",
   "metadata": {},
   "outputs": [
    {
     "name": "stdout",
     "output_type": "stream",
     "text": [
      "False\n"
     ]
    }
   ],
   "source": [
    "a = 86           # assign value to 'a'\n",
    "\n",
    "b = 106          # assign value to 'b'\n",
    "\n",
    "c = a > b        # store value of 'a > b'\n",
    "\n",
    "print(c)         # display "
   ]
  },
  {
   "cell_type": "markdown",
   "id": "second-ribbon",
   "metadata": {},
   "source": [
    "#### • Less than operator\n",
    "\n",
    "Less than operator will return True if left side number is less than right side else it will return False"
   ]
  },
  {
   "cell_type": "code",
   "execution_count": 47,
   "id": "senior-innocent",
   "metadata": {
    "scrolled": true
   },
   "outputs": [
    {
     "name": "stdout",
     "output_type": "stream",
     "text": [
      "True\n"
     ]
    }
   ],
   "source": [
    "print(4 < 10)     # syntax is '<'"
   ]
  },
  {
   "cell_type": "code",
   "execution_count": 48,
   "id": "configured-lottery",
   "metadata": {
    "scrolled": true
   },
   "outputs": [
    {
     "name": "stdout",
     "output_type": "stream",
     "text": [
      "False\n"
     ]
    }
   ],
   "source": [
    "print(14 < 10)     # syntax is '<'"
   ]
  },
  {
   "cell_type": "code",
   "execution_count": 49,
   "id": "thick-zoning",
   "metadata": {},
   "outputs": [
    {
     "name": "stdout",
     "output_type": "stream",
     "text": [
      "True\n"
     ]
    }
   ],
   "source": [
    "a = 6           # assign value to 'a'\n",
    "\n",
    "b = 45           # assign value to 'b'\n",
    "\n",
    "c = a < b       # store value of 'a < b'\n",
    "\n",
    "print(c)         # display "
   ]
  },
  {
   "cell_type": "code",
   "execution_count": 50,
   "id": "arranged-shade",
   "metadata": {},
   "outputs": [
    {
     "name": "stdout",
     "output_type": "stream",
     "text": [
      "False\n"
     ]
    }
   ],
   "source": [
    "a = 86           # assign value to 'a'\n",
    "\n",
    "b = 45           # assign value to 'b'\n",
    "\n",
    "c = a < b       # store value of 'a < b'\n",
    "\n",
    "print(c)         # display "
   ]
  },
  {
   "cell_type": "markdown",
   "id": "departmental-cambridge",
   "metadata": {},
   "source": [
    "#### • Greater than or equal to\n",
    "\n",
    "Greater than equal to operator will return True if left side number is greater than or equal to right side else it will return False"
   ]
  },
  {
   "cell_type": "code",
   "execution_count": 51,
   "id": "stopped-agenda",
   "metadata": {},
   "outputs": [
    {
     "name": "stdout",
     "output_type": "stream",
     "text": [
      "True\n"
     ]
    }
   ],
   "source": [
    "print(7 >= 5)        # syntax is '>='"
   ]
  },
  {
   "cell_type": "code",
   "execution_count": 52,
   "id": "molecular-search",
   "metadata": {},
   "outputs": [
    {
     "name": "stdout",
     "output_type": "stream",
     "text": [
      "True\n"
     ]
    }
   ],
   "source": [
    "print(5 >= 5)"
   ]
  },
  {
   "cell_type": "code",
   "execution_count": 53,
   "id": "unnecessary-construction",
   "metadata": {},
   "outputs": [
    {
     "name": "stdout",
     "output_type": "stream",
     "text": [
      "True\n"
     ]
    }
   ],
   "source": [
    "print(8 >= 5)"
   ]
  },
  {
   "cell_type": "code",
   "execution_count": 54,
   "id": "experienced-tissue",
   "metadata": {},
   "outputs": [
    {
     "name": "stdout",
     "output_type": "stream",
     "text": [
      "True\n"
     ]
    }
   ],
   "source": [
    "a = 57           # assign value to 'a'\n",
    "\n",
    "b = 45           # assign value to 'b'\n",
    "\n",
    "c = a >= b       # store value of 'a < b'\n",
    "\n",
    "print(c)         # display "
   ]
  },
  {
   "cell_type": "code",
   "execution_count": 55,
   "id": "polar-cleaning",
   "metadata": {},
   "outputs": [
    {
     "name": "stdout",
     "output_type": "stream",
     "text": [
      "True\n"
     ]
    }
   ],
   "source": [
    "a = 45           # assign value to 'a'\n",
    "\n",
    "b = 45           # assign value to 'b'\n",
    "\n",
    "c = a >= b       # store value of 'a < b'\n",
    "\n",
    "print(c)         # display "
   ]
  },
  {
   "cell_type": "code",
   "execution_count": 56,
   "id": "alien-genome",
   "metadata": {},
   "outputs": [
    {
     "name": "stdout",
     "output_type": "stream",
     "text": [
      "False\n"
     ]
    }
   ],
   "source": [
    "a = 25           # assign value to 'a'\n",
    "\n",
    "b = 45           # assign value to 'b'\n",
    "\n",
    "c = a >= b       # store value of 'a < b'\n",
    "\n",
    "print(c)         # display "
   ]
  },
  {
   "cell_type": "markdown",
   "id": "renewable-people",
   "metadata": {},
   "source": [
    "#### • Less than or equal to operator\n",
    "\n",
    "Less than or equal to operator will return True if left side number is less than or equal to right side else it will return False"
   ]
  },
  {
   "cell_type": "code",
   "execution_count": 57,
   "id": "personalized-grove",
   "metadata": {},
   "outputs": [
    {
     "name": "stdout",
     "output_type": "stream",
     "text": [
      "True\n"
     ]
    }
   ],
   "source": [
    "print(5 <= 7)        # syntax is '>='"
   ]
  },
  {
   "cell_type": "code",
   "execution_count": 58,
   "id": "worldwide-afghanistan",
   "metadata": {},
   "outputs": [
    {
     "name": "stdout",
     "output_type": "stream",
     "text": [
      "True\n"
     ]
    }
   ],
   "source": [
    "print(5 <= 5)"
   ]
  },
  {
   "cell_type": "code",
   "execution_count": 59,
   "id": "pressing-behavior",
   "metadata": {},
   "outputs": [
    {
     "name": "stdout",
     "output_type": "stream",
     "text": [
      "False\n"
     ]
    }
   ],
   "source": [
    "print(8 <= 5)"
   ]
  },
  {
   "cell_type": "code",
   "execution_count": 60,
   "id": "reflected-swiss",
   "metadata": {},
   "outputs": [
    {
     "name": "stdout",
     "output_type": "stream",
     "text": [
      "True\n"
     ]
    }
   ],
   "source": [
    "a = 45           # assign value to 'a'\n",
    "\n",
    "b = 995           # assign value to 'b'\n",
    "\n",
    "c = a <= b        # store value of 'a < b'\n",
    "\n",
    "print(c)          # display "
   ]
  },
  {
   "cell_type": "code",
   "execution_count": 61,
   "id": "optical-meter",
   "metadata": {},
   "outputs": [
    {
     "name": "stdout",
     "output_type": "stream",
     "text": [
      "True\n"
     ]
    }
   ],
   "source": [
    "a = 995           # assign value to 'a'\n",
    "\n",
    "b = 995           # assign value to 'b'\n",
    "\n",
    "c = a <= b        # store value of 'a < b'\n",
    "\n",
    "print(c)          # display "
   ]
  },
  {
   "cell_type": "code",
   "execution_count": 62,
   "id": "indonesian-orleans",
   "metadata": {},
   "outputs": [
    {
     "name": "stdout",
     "output_type": "stream",
     "text": [
      "False\n"
     ]
    }
   ],
   "source": [
    "a = 999           # assign value to 'a'\n",
    "\n",
    "b = 995           # assign value to 'b'\n",
    "\n",
    "c = a <= b        # store value of 'a < b'\n",
    "\n",
    "print(c)          # display "
   ]
  },
  {
   "cell_type": "markdown",
   "id": "related-kruger",
   "metadata": {},
   "source": [
    "### Logical operators\n",
    "\n",
    "Logical operators are used to perform logical operations on the values of variables. The value is either true or false. \n",
    "\n",
    "There are 3 types of logical operators:\n",
    "1. and operator\n",
    "2. or operator\n",
    "3. not operator"
   ]
  },
  {
   "cell_type": "markdown",
   "id": "geological-guest",
   "metadata": {},
   "source": [
    "#### • and operator\n",
    "\n",
    "and operator will return True if both the conditions are true else it will return False"
   ]
  },
  {
   "cell_type": "code",
   "execution_count": 63,
   "id": "broke-begin",
   "metadata": {},
   "outputs": [
    {
     "data": {
      "text/plain": [
       "True"
      ]
     },
     "execution_count": 63,
     "metadata": {},
     "output_type": "execute_result"
    }
   ],
   "source": [
    "(13 > 5) and (6 < 12)     # syntax is 'and'"
   ]
  },
  {
   "cell_type": "markdown",
   "id": "attempted-missile",
   "metadata": {},
   "source": [
    "The output is True because both the conditions are true. It means 13 is greater than 5 and 6 is also less than 12. \n",
    "\n",
    "and operator will return True if both the conditions are met."
   ]
  },
  {
   "cell_type": "code",
   "execution_count": 64,
   "id": "juvenile-boating",
   "metadata": {},
   "outputs": [
    {
     "data": {
      "text/plain": [
       "False"
      ]
     },
     "execution_count": 64,
     "metadata": {},
     "output_type": "execute_result"
    }
   ],
   "source": [
    "(13 > 5) and (6 > 12)"
   ]
  },
  {
   "cell_type": "markdown",
   "id": "heard-formation",
   "metadata": {},
   "source": [
    "The output is False because one conditions is true and other condition is flase."
   ]
  },
  {
   "cell_type": "code",
   "execution_count": 65,
   "id": "senior-database",
   "metadata": {},
   "outputs": [
    {
     "name": "stdout",
     "output_type": "stream",
     "text": [
      "True\n"
     ]
    }
   ],
   "source": [
    "val = 3                             # assign value to 'val'\n",
    "\n",
    "print(val > 0.4 and val >= 3)"
   ]
  },
  {
   "cell_type": "code",
   "execution_count": 66,
   "id": "structural-doctrine",
   "metadata": {},
   "outputs": [
    {
     "name": "stdout",
     "output_type": "stream",
     "text": [
      "False\n"
     ]
    }
   ],
   "source": [
    "val = 3                             # assign value to 'val'\n",
    "\n",
    "print(val > 0.4 and val < 3)"
   ]
  },
  {
   "cell_type": "markdown",
   "id": "prerequisite-porcelain",
   "metadata": {},
   "source": [
    "#### • or operator\n",
    "\n",
    "or operator will return True if either one of the conditions is true else it will return False"
   ]
  },
  {
   "cell_type": "code",
   "execution_count": 67,
   "id": "narrow-pakistan",
   "metadata": {},
   "outputs": [
    {
     "data": {
      "text/plain": [
       "True"
      ]
     },
     "execution_count": 67,
     "metadata": {},
     "output_type": "execute_result"
    }
   ],
   "source": [
    "(45 > 6) or (65 <= 456)      # syntax is 'or'"
   ]
  },
  {
   "cell_type": "markdown",
   "id": "double-merchandise",
   "metadata": {},
   "source": [
    "The output is True because both the conditions are true"
   ]
  },
  {
   "cell_type": "code",
   "execution_count": 68,
   "id": "welsh-cinema",
   "metadata": {
    "scrolled": true
   },
   "outputs": [
    {
     "data": {
      "text/plain": [
       "True"
      ]
     },
     "execution_count": 68,
     "metadata": {},
     "output_type": "execute_result"
    }
   ],
   "source": [
    "(45 < 6) or (65 <= 456)"
   ]
  },
  {
   "cell_type": "markdown",
   "id": "relative-being",
   "metadata": {},
   "source": [
    "The output is True because one of the condition is true"
   ]
  },
  {
   "cell_type": "code",
   "execution_count": 69,
   "id": "durable-steam",
   "metadata": {
    "scrolled": true
   },
   "outputs": [
    {
     "data": {
      "text/plain": [
       "False"
      ]
     },
     "execution_count": 69,
     "metadata": {},
     "output_type": "execute_result"
    }
   ],
   "source": [
    "(45 < 6) or (65 >= 456)"
   ]
  },
  {
   "cell_type": "markdown",
   "id": "industrial-murray",
   "metadata": {},
   "source": [
    "The output is False because both the conditions are false"
   ]
  },
  {
   "cell_type": "code",
   "execution_count": 70,
   "id": "recent-sector",
   "metadata": {},
   "outputs": [
    {
     "name": "stdout",
     "output_type": "stream",
     "text": [
      "True\n"
     ]
    }
   ],
   "source": [
    "val = 3                             # assign value to 'val'\n",
    "\n",
    "print(val < 0.4 or val >= 3)"
   ]
  },
  {
   "cell_type": "code",
   "execution_count": 71,
   "id": "acting-array",
   "metadata": {},
   "outputs": [
    {
     "name": "stdout",
     "output_type": "stream",
     "text": [
      "False\n"
     ]
    }
   ],
   "source": [
    "val = 3                             # assign value to 'val'\n",
    "\n",
    "print(val < 0.4 or val == 9)"
   ]
  },
  {
   "cell_type": "markdown",
   "id": "included-degree",
   "metadata": {},
   "source": [
    "#### • not operator\n",
    "\n",
    "not operator will reverse the result, returns True if result is False and returns False if result is True."
   ]
  },
  {
   "cell_type": "code",
   "execution_count": 72,
   "id": "dietary-rwanda",
   "metadata": {
    "scrolled": true
   },
   "outputs": [
    {
     "data": {
      "text/plain": [
       "False"
      ]
     },
     "execution_count": 72,
     "metadata": {},
     "output_type": "execute_result"
    }
   ],
   "source": [
    "not(5 == 5)        # syntax is 'not()' "
   ]
  },
  {
   "cell_type": "code",
   "execution_count": 73,
   "id": "treated-infection",
   "metadata": {
    "scrolled": true
   },
   "outputs": [
    {
     "data": {
      "text/plain": [
       "True"
      ]
     },
     "execution_count": 73,
     "metadata": {},
     "output_type": "execute_result"
    }
   ],
   "source": [
    "not(5 != 5)        # syntax is 'not()' "
   ]
  },
  {
   "cell_type": "code",
   "execution_count": 74,
   "id": "varied-finnish",
   "metadata": {},
   "outputs": [
    {
     "data": {
      "text/plain": [
       "True"
      ]
     },
     "execution_count": 74,
     "metadata": {},
     "output_type": "execute_result"
    }
   ],
   "source": [
    "val = 3                             # assign value to 'val'\n",
    "\n",
    "not(val < 0.4 or val == 9)"
   ]
  },
  {
   "cell_type": "markdown",
   "id": "medieval-inclusion",
   "metadata": {},
   "source": [
    "### Identity operators\n",
    "\n",
    "There are 2 types of identity operators:\n",
    "1. is operator\n",
    "2. is not operator"
   ]
  },
  {
   "cell_type": "markdown",
   "id": "closing-latvia",
   "metadata": {},
   "source": [
    "#### • is operator\n",
    "\n",
    "is operator will return True if two operands are identical. i.e(If they are located at the same memory location) "
   ]
  },
  {
   "cell_type": "code",
   "execution_count": 75,
   "id": "radio-deadline",
   "metadata": {},
   "outputs": [
    {
     "data": {
      "text/plain": [
       "True"
      ]
     },
     "execution_count": 75,
     "metadata": {},
     "output_type": "execute_result"
    }
   ],
   "source": [
    "a = 89             # assign value to 'a'\n",
    "b = 89             # assign value to 'b'\n",
    "\n",
    "# Check if variable 'a' and 'b' are identical\n",
    "a is b"
   ]
  },
  {
   "cell_type": "markdown",
   "id": "wrong-shoulder",
   "metadata": {},
   "source": [
    "The output is True because they contain same value & same memory location."
   ]
  },
  {
   "cell_type": "code",
   "execution_count": 76,
   "id": "controlled-norman",
   "metadata": {},
   "outputs": [
    {
     "name": "stdout",
     "output_type": "stream",
     "text": [
      "140731613293712\n",
      "140731613293712\n"
     ]
    }
   ],
   "source": [
    "# Lets check the memory location of variable 'a' & 'b'\n",
    "\n",
    "print(id(a))         # id() function in python will give the memory location where the value is stored.\n",
    "\n",
    "print(id(b))"
   ]
  },
  {
   "cell_type": "markdown",
   "id": "pleasant-johns",
   "metadata": {},
   "source": [
    "#### • is not operator\n",
    "\n",
    "is not operator will return True if two operands are not identical. i.e(If they are located at different memory location) "
   ]
  },
  {
   "cell_type": "code",
   "execution_count": 77,
   "id": "bronze-manchester",
   "metadata": {},
   "outputs": [
    {
     "data": {
      "text/plain": [
       "True"
      ]
     },
     "execution_count": 77,
     "metadata": {},
     "output_type": "execute_result"
    }
   ],
   "source": [
    "a = 89             # assign value to 'a'\n",
    "b = 83             # assign value to 'b'\n",
    "\n",
    "# Check if variable 'a' and 'b' are identical\n",
    "a is not b"
   ]
  },
  {
   "cell_type": "markdown",
   "id": "available-dependence",
   "metadata": {},
   "source": [
    "The output is True because they are store at different memory location."
   ]
  },
  {
   "cell_type": "code",
   "execution_count": 78,
   "id": "diagnostic-groove",
   "metadata": {},
   "outputs": [
    {
     "data": {
      "text/plain": [
       "False"
      ]
     },
     "execution_count": 78,
     "metadata": {},
     "output_type": "execute_result"
    }
   ],
   "source": [
    "a = 89             # assign value to 'a'\n",
    "b = 89             # assign value to 'b'\n",
    "\n",
    "# Check if variable 'a' and 'b' are identical\n",
    "a is not b"
   ]
  },
  {
   "cell_type": "markdown",
   "id": "offensive-karma",
   "metadata": {},
   "source": [
    "The output is False because they contain same value & same memory location."
   ]
  },
  {
   "cell_type": "code",
   "execution_count": 79,
   "id": "bored-authority",
   "metadata": {},
   "outputs": [
    {
     "data": {
      "text/plain": [
       "True"
      ]
     },
     "execution_count": 79,
     "metadata": {},
     "output_type": "execute_result"
    }
   ],
   "source": [
    "z = 5\n",
    "b = 4\n",
    "\n",
    "type(z) is type(b)"
   ]
  },
  {
   "cell_type": "markdown",
   "id": "extra-revelation",
   "metadata": {},
   "source": [
    "### Membership operators\n",
    "\n",
    "membership operators are used to test whether a value or variable is found in a sequence (string, list, tuple, set and dictionary).\n",
    "\n",
    "There are 2 types of membership operators:\n",
    "1. in operator\n",
    "2. not in operator"
   ]
  },
  {
   "cell_type": "markdown",
   "id": "african-friday",
   "metadata": {},
   "source": [
    "#### • in operator\n",
    "\n",
    "in operator will return True if value/variable is found in the sequence."
   ]
  },
  {
   "cell_type": "code",
   "execution_count": 80,
   "id": "disciplinary-active",
   "metadata": {},
   "outputs": [
    {
     "data": {
      "text/plain": [
       "True"
      ]
     },
     "execution_count": 80,
     "metadata": {},
     "output_type": "execute_result"
    }
   ],
   "source": [
    "a = 'Hello World!'        # assign a variable\n",
    "\n",
    "'H' in a                 # check if 'H' is available in variable a"
   ]
  },
  {
   "cell_type": "code",
   "execution_count": 81,
   "id": "assured-airplane",
   "metadata": {},
   "outputs": [
    {
     "data": {
      "text/plain": [
       "False"
      ]
     },
     "execution_count": 81,
     "metadata": {},
     "output_type": "execute_result"
    }
   ],
   "source": [
    "a = 'Hello World!'        # assign a variable\n",
    "\n",
    "# The output will be False bcoz capital 'O' is not available \n",
    "'O' in a                 # check if 'O' is available in variable a"
   ]
  },
  {
   "cell_type": "code",
   "execution_count": 82,
   "id": "partial-university",
   "metadata": {
    "scrolled": false
   },
   "outputs": [
    {
     "data": {
      "text/plain": [
       "True"
      ]
     },
     "execution_count": 82,
     "metadata": {},
     "output_type": "execute_result"
    }
   ],
   "source": [
    "d = 'Code with Python'        # assign d variable\n",
    "\n",
    "e = 'Python'\n",
    "\n",
    "e in d                  # check if variable e is available in variable d"
   ]
  },
  {
   "cell_type": "markdown",
   "id": "harmful-environment",
   "metadata": {},
   "source": [
    "#### • not in operator\n",
    "\n",
    "not in operator will return True if value/variable is not found in the sequence."
   ]
  },
  {
   "cell_type": "code",
   "execution_count": 83,
   "id": "cheap-oregon",
   "metadata": {},
   "outputs": [
    {
     "data": {
      "text/plain": [
       "False"
      ]
     },
     "execution_count": 83,
     "metadata": {},
     "output_type": "execute_result"
    }
   ],
   "source": [
    "a = 'Hello World!'        # assign a variable\n",
    "\n",
    "'o' not in a                 # check if 'o' is not available in variable a"
   ]
  },
  {
   "cell_type": "code",
   "execution_count": 84,
   "id": "silver-graphics",
   "metadata": {},
   "outputs": [
    {
     "data": {
      "text/plain": [
       "True"
      ]
     },
     "execution_count": 84,
     "metadata": {},
     "output_type": "execute_result"
    }
   ],
   "source": [
    "a = 'Hello World!'        # assign a variable\n",
    "\n",
    "# The output will be False bcoz capital 'O' is not available \n",
    "'O' not in a                 # check if 'O' is available in variable a"
   ]
  },
  {
   "cell_type": "markdown",
   "id": "trying-military",
   "metadata": {},
   "source": [
    "### Bitwise operators\n",
    "\n",
    "Bitwise operators are used to perform bitwise calculations on integers. The integers are first converted into binary and then operations are performed on bit by bit, hence the name bitwise operators. Then the result is returned in decimal format.\n",
    "\n",
    "There are 6 types of bitwise operators:\n",
    "1. Bitwise AND\n",
    "2. Bitwise OR\n",
    "3. Bitwise NOT\n",
    "4. Bitwise XOR\n",
    "5. Bitwise right shift\n",
    "6. Bitwise left shift"
   ]
  },
  {
   "cell_type": "markdown",
   "id": "after-hormone",
   "metadata": {},
   "source": [
    "## 5) Python Conditional Statements\n",
    "\n",
    "Conditional statements are also called decision-making statements. We use those statements while we want to execute a block of code when the given condition is true or false. "
   ]
  },
  {
   "cell_type": "markdown",
   "id": "recreational-perception",
   "metadata": {},
   "source": [
    "### if statement"
   ]
  },
  {
   "cell_type": "raw",
   "id": "royal-baseline",
   "metadata": {},
   "source": [
    "if statement is the most simple decision making statement. It is used to decide whether a certain statement or block of statements will be executed or not i.e if a certain condition is true then a block of statement is executed otherwise not.\n",
    "\n",
    "Syntax:\n",
    "\n",
    "if condition:\n",
    "    # statement to execute\n",
    "    \n",
    "Python uses indentation to identify a block. So the block under an if statement will be identified."
   ]
  },
  {
   "cell_type": "code",
   "execution_count": 85,
   "id": "capital-tamil",
   "metadata": {},
   "outputs": [
    {
     "name": "stdout",
     "output_type": "stream",
     "text": [
      "Greater\n"
     ]
    }
   ],
   "source": [
    "if 52 > 26:                 # 52 is greater than 26 so the condition becomes True and the print statement is executed.\n",
    "    print('Greater')        # Before print we have to give indentation "
   ]
  },
  {
   "cell_type": "code",
   "execution_count": 86,
   "id": "arctic-conspiracy",
   "metadata": {
    "scrolled": true
   },
   "outputs": [
    {
     "name": "stdout",
     "output_type": "stream",
     "text": [
      "Out of if statement\n"
     ]
    }
   ],
   "source": [
    "if 52 < 26:                     # 52 is not lesser than 26 so the condition becomes False and the print statement is not executed.\n",
    "    print('Greater')            # Before print we have to give indentation\n",
    "print('Out of if statement')    # These line of code is not a part of if statement"
   ]
  },
  {
   "cell_type": "code",
   "execution_count": 87,
   "id": "disturbed-scholarship",
   "metadata": {},
   "outputs": [
    {
     "name": "stdout",
     "output_type": "stream",
     "text": [
      "Condition is satisfied\n"
     ]
    }
   ],
   "source": [
    "if True:                                # Here the condition will be always True bcoz the condition is boolean True value.\n",
    "    print('Condition is satisfied')     "
   ]
  },
  {
   "cell_type": "markdown",
   "id": "corporate-intention",
   "metadata": {},
   "source": [
    "### if else statement"
   ]
  },
  {
   "cell_type": "raw",
   "id": "coral-beauty",
   "metadata": {},
   "source": [
    "The if statement alone tells us that if a condition is true it will execute a block of statements and if the condition is false it won’t. But what if we want to do something else if the condition is false. Here comes the else statement. We can use the else statement with if statement to execute a block of code when the condition is false.\n",
    "\n",
    "Syntax:\n",
    "\n",
    "if condition:\n",
    "    # Statement will be executed if the condition is met.\n",
    "else:\n",
    "    # Statement will be executed if the condition is not met."
   ]
  },
  {
   "cell_type": "code",
   "execution_count": 88,
   "id": "after-annual",
   "metadata": {},
   "outputs": [
    {
     "name": "stdout",
     "output_type": "stream",
     "text": [
      "Values are different\n"
     ]
    }
   ],
   "source": [
    "a = 72                                   # varaible is assigned with a value of 72\n",
    "\n",
    "if a == 6:                               # Here condition is checked (i.e is varaible a equal to 6) if conditon is met then\n",
    "    print('Values are same')             # it will enter in if statement & if not then it will enter in else statement\n",
    "else:\n",
    "    print('Values are different')"
   ]
  },
  {
   "cell_type": "code",
   "execution_count": 89,
   "id": "fleet-tension",
   "metadata": {},
   "outputs": [
    {
     "name": "stdout",
     "output_type": "stream",
     "text": [
      "Values are same\n"
     ]
    }
   ],
   "source": [
    "a = 6                                   # varaible is assigned with a value of 72\n",
    "\n",
    "if a == 6:                               # Here condition is checked (i.e is varaible a equal to 6) if conditon is met then\n",
    "    print('Values are same')             # it will enter in if statement & if not then it will enter in else statement\n",
    "else:\n",
    "    print('Values are different')"
   ]
  },
  {
   "cell_type": "markdown",
   "id": "substantial-cambridge",
   "metadata": {},
   "source": [
    "### if elif else statement"
   ]
  },
  {
   "cell_type": "raw",
   "id": "hydraulic-cancer",
   "metadata": {},
   "source": [
    "The if statements are executed from the top down. As soon as one of the conditions controlling the if is true, the statement associated with that if is executed, and the rest of the statement is bypassed. If none of the conditions is true, then the final else statement will be executed.\n",
    "\n",
    "Syntax:\n",
    "\n",
    "if condition:\n",
    "    # Statement of if is executed\n",
    "elif condition:\n",
    "    # Statement of elif is executed\n",
    "elif condition:\n",
    "    # Statement of elif is executed\n",
    "    .\n",
    "    .\n",
    "    .\n",
    "else:\n",
    "    # Statement of else is executed\n",
    "    \n",
    "    \n",
    "We can use many number of elif statements."
   ]
  },
  {
   "cell_type": "code",
   "execution_count": 90,
   "id": "popular-retail",
   "metadata": {},
   "outputs": [
    {
     "name": "stdout",
     "output_type": "stream",
     "text": [
      "elif statement is executed\n"
     ]
    }
   ],
   "source": [
    "x = 35                                         # assign variable 'x' \n",
    "y = 58                                         # assign variable 'y'\n",
    " \n",
    "if x < 0:                                      # Check if x less than 0  \n",
    "    print('if statement is executed')\n",
    "elif x < y:                                    # Check if x less than y\n",
    "    print('elif statement is executed')        \n",
    "else:                                          # If all condition is 'False' it will enter else block\n",
    "    print('else statement is exectued')        "
   ]
  },
  {
   "cell_type": "code",
   "execution_count": 91,
   "id": "grateful-ordering",
   "metadata": {},
   "outputs": [
    {
     "name": "stdout",
     "output_type": "stream",
     "text": [
      "if statement is executed\n"
     ]
    }
   ],
   "source": [
    "x = 35                                         # assign variable 'x' \n",
    "y = 58                                         # assign variable 'y'\n",
    " \n",
    "if x == 35:                                      # Check if x less than 0  \n",
    "    print('if statement is executed')\n",
    "elif x < y:                                    # Check if x less than y\n",
    "    print('elif statement is executed')        \n",
    "else:                                          # If all condition is 'False' it will enter else block\n",
    "    print('else statement is exectued')        "
   ]
  },
  {
   "cell_type": "code",
   "execution_count": 92,
   "id": "serial-postcard",
   "metadata": {},
   "outputs": [
    {
     "name": "stdout",
     "output_type": "stream",
     "text": [
      "else statement is exectued\n"
     ]
    }
   ],
   "source": [
    "x = 35                                         # assign variable 'x' \n",
    "y = 58                                         # assign variable 'y'\n",
    " \n",
    "if x > 35:                                      # Check if x less than 0  \n",
    "    print('if statement is executed')\n",
    "elif x == y:                                    # Check if x less than y\n",
    "    print('elif statement is executed')        \n",
    "else:                                          # If all condition is 'False' it will enter else block\n",
    "    print('else statement is exectued')        "
   ]
  },
  {
   "cell_type": "markdown",
   "id": "together-denial",
   "metadata": {},
   "source": [
    "###  Nested if statement"
   ]
  },
  {
   "cell_type": "raw",
   "id": "equivalent-characteristic",
   "metadata": {},
   "source": [
    "Nested if statements means an if statement inside another if statement. Yes, Python allows us to nest if statements within if statements. i.e, we can place an if statement inside another if statement.\n",
    "\n",
    "Syntax:\n",
    "\n",
    "if condition1:\n",
    "    if condition2:\n",
    "        # Execute the statement"
   ]
  },
  {
   "cell_type": "code",
   "execution_count": 93,
   "id": "liked-triangle",
   "metadata": {},
   "outputs": [
    {
     "name": "stdout",
     "output_type": "stream",
     "text": [
      "Inside main if statement\n",
      "Inside nested if statement\n"
     ]
    }
   ],
   "source": [
    "a = 10                                              # Assign value 10 to variable 'a' \n",
    "b = 5                                               # Assign value 5 to variable 'b'\n",
    "\n",
    "if a > b:                                           # Check if a is greater than b if 'yes' than it will enter the block\n",
    "    print('Inside main if statement')               # These line of code will tell you that who are inside the block\n",
    "    \n",
    "    if b < a:                                       # Check if b is smaller than a if 'yes' than it will again enter the block\n",
    "        print('Inside nested if statement')         # These line of code will tell you that who are inside the nested block"
   ]
  },
  {
   "cell_type": "code",
   "execution_count": 94,
   "id": "internal-chorus",
   "metadata": {},
   "outputs": [
    {
     "name": "stdout",
     "output_type": "stream",
     "text": [
      "Inside main if statement\n"
     ]
    }
   ],
   "source": [
    "a = 10                                              # Assign value 10 to variable 'a' \n",
    "b = 5                                               # Assign value 5 to variable 'b'\n",
    "\n",
    "if a > b:                                           # Check if a is greater than b if 'yes' than it will enter the block\n",
    "    print('Inside main if statement')               # These line of code will tell you that who are inside the block\n",
    "    \n",
    "    if b == a:                                       # Check if b is equal to a if 'yes' than it will again enter the block or it wil exit \n",
    "        print('Inside nested if statement')         # These line of code will tell you that who are inside the nested block"
   ]
  },
  {
   "cell_type": "code",
   "execution_count": 95,
   "id": "mighty-lebanon",
   "metadata": {},
   "outputs": [
    {
     "name": "stdout",
     "output_type": "stream",
     "text": [
      "Both the conditions was False so it didn't enter the if block\n"
     ]
    }
   ],
   "source": [
    "a = 10                                              # Assign value 10 to variable 'a' \n",
    "b = 5                                               # Assign value 5 to variable 'b'\n",
    "\n",
    "if a < b:                                           # Check if a is smaller than b if 'yes' than it will enter the block or it will exit\n",
    "    print('Inside main if statement')               # These line of code will tell you that who are inside the block\n",
    "    \n",
    "    if b == a:                                       # Check if b is equal to a if 'yes' than it will again enter the block or it wil exit \n",
    "        print('Inside nested if statement')         # These line of code will tell you that who are inside the nested block\n",
    "        \n",
    "print(\"Both the conditions was False so it didn't enter the if block\")"
   ]
  },
  {
   "cell_type": "markdown",
   "id": "interracial-tamil",
   "metadata": {},
   "source": [
    "## 6) Python Loops\n",
    "\n",
    "### while loop"
   ]
  },
  {
   "cell_type": "raw",
   "id": "horizontal-article",
   "metadata": {},
   "source": [
    "while loop is used to execute a block of statements repeatedly until a given a condition is satisfied. And when the condition becomes false, the line immediately after the loop in program is executed. \n",
    "\n",
    "Syntax:\n",
    "\n",
    "while condition:\n",
    "    # statement to execute"
   ]
  },
  {
   "cell_type": "code",
   "execution_count": 96,
   "id": "municipal-softball",
   "metadata": {},
   "outputs": [
    {
     "name": "stdout",
     "output_type": "stream",
     "text": [
      "Hello world!\n",
      "Hello world!\n",
      "Hello world!\n",
      "Hello world!\n",
      "Hello world!\n"
     ]
    }
   ],
   "source": [
    "''' In while loop we have to keep a track so that we know the condition has completed and we can get out of while loop \n",
    "if we don't do that the loop we continue executing. So we have to keep a count & decrease it so we get out of while loop.'''\n",
    "\n",
    "n = 0                              # We assigned a variable with value 0 \n",
    "\n",
    "while n < 5:                       # Here while loop will keep executing the block of statement until n is less than 5  \n",
    "    print('Hello world!')          \n",
    "    n = n + 1                      # These line of code will work as a counter & it will increase the value of n"
   ]
  },
  {
   "cell_type": "code",
   "execution_count": 97,
   "id": "portable-drove",
   "metadata": {},
   "outputs": [
    {
     "name": "stdout",
     "output_type": "stream",
     "text": [
      "Value of n at each iteration: 0\n",
      "Value of n at each iteration: 1\n",
      "Value of n at each iteration: 2\n",
      "Value of n at each iteration: 3\n",
      "Value of n at each iteration: 4\n"
     ]
    }
   ],
   "source": [
    "''' In while loop we have to keep a track so that we know the condition has completed and we can get out of while loop \n",
    "if we don't do that the loop we continue executing. So we have to keep a count & decrease it so we get out of while loop.'''\n",
    "\n",
    "n = 0                              # We assigned a variable with value 0 \n",
    "\n",
    "while n < 5:                       # Here while loop will keep executing the block of statement until n is less than 5  \n",
    "    print('Value of n at each iteration:', n)          \n",
    "    n = n + 1                      # These line of code will work as a counter & it will increase the value of n"
   ]
  },
  {
   "cell_type": "markdown",
   "id": "removable-briefing",
   "metadata": {},
   "source": [
    "### for loop"
   ]
  },
  {
   "cell_type": "raw",
   "id": "removable-canberra",
   "metadata": {},
   "source": [
    "For loops are used for sequential traversal. For example: traversing a list or string or array etc.\n",
    "\n",
    "Synatx:\n",
    "\n",
    "for iterator in sequence:\n",
    "    #statement to execute"
   ]
  },
  {
   "cell_type": "code",
   "execution_count": 98,
   "id": "certified-acquisition",
   "metadata": {},
   "outputs": [
    {
     "name": "stdout",
     "output_type": "stream",
     "text": [
      "0\n",
      "1\n",
      "2\n",
      "3\n",
      "4\n",
      "5\n"
     ]
    }
   ],
   "source": [
    "# Here in for loop we don't have to keep a count\n",
    "\n",
    "for i in range(0, 6):             # Here range is a sequence\n",
    "    print(i)                   "
   ]
  },
  {
   "cell_type": "code",
   "execution_count": 99,
   "id": "hybrid-think",
   "metadata": {},
   "outputs": [
    {
     "name": "stdout",
     "output_type": "stream",
     "text": [
      "apple\n",
      "grapes\n",
      "watermelon\n",
      "banana\n"
     ]
    }
   ],
   "source": [
    "list1 = ['apple', 'grapes', 'watermelon', 'banana']     # list of friuts \n",
    "\n",
    "for item in list1:                                      # for loop to iterate over the list\n",
    "    print(item)"
   ]
  }
 ],
 "metadata": {
  "kernelspec": {
   "display_name": "Python 3",
   "language": "python",
   "name": "python3"
  },
  "language_info": {
   "codemirror_mode": {
    "name": "ipython",
    "version": 3
   },
   "file_extension": ".py",
   "mimetype": "text/x-python",
   "name": "python",
   "nbconvert_exporter": "python",
   "pygments_lexer": "ipython3",
   "version": "3.7.6"
  }
 },
 "nbformat": 4,
 "nbformat_minor": 5
}
